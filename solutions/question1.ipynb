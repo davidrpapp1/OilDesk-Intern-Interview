{
 "cells": [
  {
   "cell_type": "code",
   "execution_count": 48,
   "metadata": {},
   "outputs": [],
   "source": [
    "# Included libraries\n",
    "import numpy as np\n",
    "import pandas as pd\n",
    "from datetime import datetime\n",
    "import matplotlib.pyplot as plt"
   ]
  },
  {
   "cell_type": "code",
   "execution_count": 49,
   "metadata": {},
   "outputs": [
    {
     "data": {
      "text/html": [
       "<div>\n",
       "<style scoped>\n",
       "    .dataframe tbody tr th:only-of-type {\n",
       "        vertical-align: middle;\n",
       "    }\n",
       "\n",
       "    .dataframe tbody tr th {\n",
       "        vertical-align: top;\n",
       "    }\n",
       "\n",
       "    .dataframe thead th {\n",
       "        text-align: right;\n",
       "    }\n",
       "</style>\n",
       "<table border=\"1\" class=\"dataframe\">\n",
       "  <thead>\n",
       "    <tr style=\"text-align: right;\">\n",
       "      <th></th>\n",
       "      <th>Dates</th>\n",
       "      <th>LMCADS03 Comdty</th>\n",
       "      <th>LMAHDS03 Comdty</th>\n",
       "      <th>LMZSDS03 Comdty</th>\n",
       "      <th>LMPBDS03 Comdty</th>\n",
       "      <th>LMSNDS03 Comdty</th>\n",
       "      <th>CL1 Comdty</th>\n",
       "    </tr>\n",
       "  </thead>\n",
       "  <tbody>\n",
       "    <tr>\n",
       "      <th>0</th>\n",
       "      <td>01/01/2010</td>\n",
       "      <td>7375.0</td>\n",
       "      <td>2230.0</td>\n",
       "      <td>2560.0</td>\n",
       "      <td>2432.0</td>\n",
       "      <td>16950</td>\n",
       "      <td>79.36</td>\n",
       "    </tr>\n",
       "    <tr>\n",
       "      <th>1</th>\n",
       "      <td>04/01/2010</td>\n",
       "      <td>7500.0</td>\n",
       "      <td>2267.0</td>\n",
       "      <td>2574.0</td>\n",
       "      <td>2515.0</td>\n",
       "      <td>17450</td>\n",
       "      <td>81.51</td>\n",
       "    </tr>\n",
       "    <tr>\n",
       "      <th>2</th>\n",
       "      <td>05/01/2010</td>\n",
       "      <td>7485.0</td>\n",
       "      <td>2302.0</td>\n",
       "      <td>2575.0</td>\n",
       "      <td>2522.5</td>\n",
       "      <td>17375</td>\n",
       "      <td>81.77</td>\n",
       "    </tr>\n",
       "    <tr>\n",
       "      <th>3</th>\n",
       "      <td>06/01/2010</td>\n",
       "      <td>7660.0</td>\n",
       "      <td>2377.0</td>\n",
       "      <td>2718.0</td>\n",
       "      <td>2680.0</td>\n",
       "      <td>17825</td>\n",
       "      <td>83.18</td>\n",
       "    </tr>\n",
       "    <tr>\n",
       "      <th>4</th>\n",
       "      <td>07/01/2010</td>\n",
       "      <td>7535.0</td>\n",
       "      <td>2310.0</td>\n",
       "      <td>2607.0</td>\n",
       "      <td>2599.0</td>\n",
       "      <td>17475</td>\n",
       "      <td>82.66</td>\n",
       "    </tr>\n",
       "  </tbody>\n",
       "</table>\n",
       "</div>"
      ],
      "text/plain": [
       "        Dates  LMCADS03 Comdty  LMAHDS03 Comdty  LMZSDS03 Comdty  \\\n",
       "0  01/01/2010           7375.0           2230.0           2560.0   \n",
       "1  04/01/2010           7500.0           2267.0           2574.0   \n",
       "2  05/01/2010           7485.0           2302.0           2575.0   \n",
       "3  06/01/2010           7660.0           2377.0           2718.0   \n",
       "4  07/01/2010           7535.0           2310.0           2607.0   \n",
       "\n",
       "   LMPBDS03 Comdty  LMSNDS03 Comdty  CL1 Comdty  \n",
       "0           2432.0            16950       79.36  \n",
       "1           2515.0            17450       81.51  \n",
       "2           2522.5            17375       81.77  \n",
       "3           2680.0            17825       83.18  \n",
       "4           2599.0            17475       82.66  "
      ]
     },
     "execution_count": 49,
     "metadata": {},
     "output_type": "execute_result"
    }
   ],
   "source": [
    "# Load CSV\n",
    "df = pd.read_csv(\"../data/MarketData.csv\", header=[3,4,5,6])\n",
    "df.columns = df.columns.get_level_values(1) # Truncate to 1 header\n",
    "df.rename(columns={df.columns[0]:\"Dates\"}, inplace=True) # This is a bit inefficient as this name exists in level 0...\n",
    "df.head(5) # Not sure about the first 2 rows containing date range for this file..."
   ]
  },
  {
   "cell_type": "code",
   "execution_count": 50,
   "metadata": {},
   "outputs": [
    {
     "data": {
      "text/html": [
       "<div>\n",
       "<style scoped>\n",
       "    .dataframe tbody tr th:only-of-type {\n",
       "        vertical-align: middle;\n",
       "    }\n",
       "\n",
       "    .dataframe tbody tr th {\n",
       "        vertical-align: top;\n",
       "    }\n",
       "\n",
       "    .dataframe thead th {\n",
       "        text-align: right;\n",
       "    }\n",
       "</style>\n",
       "<table border=\"1\" class=\"dataframe\">\n",
       "  <thead>\n",
       "    <tr style=\"text-align: right;\">\n",
       "      <th></th>\n",
       "      <th>Dates</th>\n",
       "      <th>LMCADS03 Comdty</th>\n",
       "      <th>LMZSDS03 Comdty</th>\n",
       "    </tr>\n",
       "  </thead>\n",
       "  <tbody>\n",
       "    <tr>\n",
       "      <th>256</th>\n",
       "      <td>2021-12-27</td>\n",
       "      <td>9568.0</td>\n",
       "      <td>3519.0</td>\n",
       "    </tr>\n",
       "    <tr>\n",
       "      <th>257</th>\n",
       "      <td>2021-12-28</td>\n",
       "      <td>9568.0</td>\n",
       "      <td>3519.0</td>\n",
       "    </tr>\n",
       "    <tr>\n",
       "      <th>258</th>\n",
       "      <td>2021-12-29</td>\n",
       "      <td>9680.5</td>\n",
       "      <td>3513.0</td>\n",
       "    </tr>\n",
       "    <tr>\n",
       "      <th>259</th>\n",
       "      <td>2021-12-30</td>\n",
       "      <td>9691.5</td>\n",
       "      <td>3532.5</td>\n",
       "    </tr>\n",
       "    <tr>\n",
       "      <th>260</th>\n",
       "      <td>2021-12-31</td>\n",
       "      <td>9720.5</td>\n",
       "      <td>3534.0</td>\n",
       "    </tr>\n",
       "  </tbody>\n",
       "</table>\n",
       "</div>"
      ],
      "text/plain": [
       "         Dates  LMCADS03 Comdty  LMZSDS03 Comdty\n",
       "256 2021-12-27           9568.0           3519.0\n",
       "257 2021-12-28           9568.0           3519.0\n",
       "258 2021-12-29           9680.5           3513.0\n",
       "259 2021-12-30           9691.5           3532.5\n",
       "260 2021-12-31           9720.5           3534.0"
      ]
     },
     "execution_count": 50,
     "metadata": {},
     "output_type": "execute_result"
    }
   ],
   "source": [
    "# Filter all data except 2021 Zinc and Copper\n",
    "df = df[['Dates', 'LMCADS03 Comdty', 'LMZSDS03 Comdty']]\n",
    "df['Dates'] = pd.to_datetime(df['Dates'], format=\"%d/%m/%Y\") # Convert to pd datetime friendly format\n",
    "df = df[(df['Dates'] > '2020-12-31') & (df['Dates'] < '2022-01-01')]\n",
    "df = df.reset_index(drop=True) # Reset index after truncation\n",
    "df.tail(5)"
   ]
  },
  {
   "cell_type": "code",
   "execution_count": 51,
   "metadata": {},
   "outputs": [
    {
     "data": {
      "text/plain": [
       "<matplotlib.legend.Legend at 0x1a0309a5c10>"
      ]
     },
     "execution_count": 51,
     "metadata": {},
     "output_type": "execute_result"
    },
    {
     "data": {
      "image/png": "[encoded data removed]",
      "text/plain": [
       "<Figure size 640x480 with 1 Axes>"
      ]
     },
     "metadata": {},
     "output_type": "display_data"
    }
   ],
   "source": [
    "# Calculate monthly averages\n",
    "copper_mean = df.groupby(pd.PeriodIndex(df['Dates'], freq=\"M\"))['LMCADS03 Comdty'].mean()\n",
    "zinc_mean = df.groupby(pd.PeriodIndex(df['Dates'], freq=\"M\"))['LMZSDS03 Comdty'].mean()\n",
    "\n",
    "# Combine into a df\n",
    "df_mean = copper_mean.to_frame().merge(zinc_mean, how='left', on='Dates')\n",
    "\n",
    "# Plot averages\n",
    "df_mean.plot(title=\"2021 monthly averages\")\n",
    "plt.ylabel(\"Price ($)\")\n",
    "plt.legend(['Copper', 'Zinc'])"
   ]
  }
 ],
 "metadata": {
  "kernelspec": {
   "display_name": "Python 3",
   "language": "python",
   "name": "python3"
  },
  "language_info": {
   "codemirror_mode": {
    "name": "ipython",
    "version": 3
   },
   "file_extension": ".py",
   "mimetype": "text/x-python",
   "name": "python",
   "nbconvert_exporter": "python",
   "pygments_lexer": "ipython3",
   "version": "3.11.3"
  }
 },
 "nbformat": 4,
 "nbformat_minor": 2
}
